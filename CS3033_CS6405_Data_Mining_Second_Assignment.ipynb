{
  "nbformat": 4,
  "nbformat_minor": 0,
  "metadata": {
    "colab": {
      "name": "CS3033/CS6405 - Data Mining - Second Assignment.ipynb",
      "provenance": [],
      "include_colab_link": true
    },
    "kernelspec": {
      "name": "python3",
      "display_name": "Python 3"
    },
    "language_info": {
      "name": "python"
    }
  },
  "cells": [
    {
      "cell_type": "markdown",
      "metadata": {
        "id": "view-in-github",
        "colab_type": "text"
      },
      "source": [
        "<a href=\"https://colab.research.google.com/github/Hem-hemanth/DataAnalyticsDatasets/blob/main/CS3033_CS6405_Data_Mining_Second_Assignment.ipynb\" target=\"_parent\"><img src=\"https://colab.research.google.com/assets/colab-badge.svg\" alt=\"Open In Colab\"/></a>"
      ]
    },
    {
      "cell_type": "markdown",
      "source": [
        "# CS3033/CS6405 - Data Mining - Second Assignment\n",
        "\n",
        "### Submission\n",
        "\n",
        "This assignment is **due on 06/04/22 at 23:59**. You should submit a single .ipnyb file with your python code and analysis electronically via Canvas.\n",
        "Please note that this assignment will account for 25 Marks of your module grade.\n",
        "\n",
        "### Declaration\n",
        "\n",
        "By submitting this assignment. I agree to the following:\n",
        "\n",
        "<font color=\"red\">“I have read and understand the UCC academic policy on plagiarism, and agree to the requirements set out thereby in relation to plagiarism and referencing. I confirm that I have referenced and acknowledged properly all sources used in the preparation of this assignment.\n",
        "I declare that this assignment is entirely my own work based on my personal study. I further declare that I have not engaged the services of another to either assist me in, or complete this assignment”</font>\n",
        "\n",
        "### Objective\n",
        "\n",
        "The Boolean satisfiability (SAT) problem consists in determining whether a Boolean formula F is satisfiable or not. F is represented by a pair (X, C), where X is a set of Boolean variables and C is a set of clauses in Conjunctive Normal Form (CNF). Each clause is a disjunction of literals (a variable or its negation). This problem is one of the most widely studied combinatorial problems in computer science. It is the classic NP-complete problem. Over the past number of decades, a significant amount of research work has focused on solving SAT problems with both complete and incomplete solvers.\n",
        "\n",
        "Recent advances in supervised learning have provided powerful techniques for classifying problems. In this project, we see the SAT problem as a classification problem. Given a Boolean formula (represented by a vector of features), we are asked to predict if it is satisfiable or not.\n",
        "\n",
        "In this project, we represent SAT problems with a vector of 327 features with general information about the problem, e.g., number of variables, number of clauses, fraction of horn clauses in the problem, etc. There is no need to understand the features to be able to complete the assignment.\n",
        "\n",
        "The dataset is available at:\n",
        "https://github.com/andvise/DataAnalyticsDatasets/blob/main/dm_assignment2/sat_dataset_train.csv\n",
        "\n",
        "This is original unpublished data."
      ],
      "metadata": {
        "id": "8WfrCFmLHxYu"
      }
    },
    {
      "cell_type": "markdown",
      "source": [
        "## Data Preparation"
      ],
      "metadata": {
        "id": "Oav9G1WSJ1nH"
      }
    },
    {
      "cell_type": "code",
      "source": [
        "import pandas as pd\n",
        "\n",
        "df = pd.read_csv(\"https://github.com/andvise/DataAnalyticsDatasets/blob/6d5738101d173b97c565f143f945dedb9c42a400/dm_assignment2/sat_dataset_train.csv?raw=true\")\n",
        "df.head()"
      ],
      "metadata": {
        "colab": {
          "base_uri": "https://localhost:8080/",
          "height": 299
        },
        "id": "DE0kM0QsJ1En",
        "outputId": "456f7359-75c8-4827-e859-ef9a2e89a451"
      },
      "execution_count": 98,
      "outputs": [
        {
          "output_type": "execute_result",
          "data": {
            "text/plain": [
              "     c   v  clauses_vars_ratio  vars_clauses_ratio  vcg_var_mean  \\\n",
              "0  420  10           42.000000            0.023810      0.600000   \n",
              "1  230  20           11.500000            0.086957      0.137826   \n",
              "2  240  16           15.000000            0.066667      0.300000   \n",
              "3  424  30           14.133333            0.070755      0.226415   \n",
              "4  162  19            8.526316            0.117284      0.139701   \n",
              "\n",
              "   vcg_var_coeff  vcg_var_min  vcg_var_max  vcg_var_entropy  vcg_clause_mean  \\\n",
              "0       0.000000     0.600000     0.600000         0.000000         0.600000   \n",
              "1       0.089281     0.117391     0.160870         2.180946         0.137826   \n",
              "2       0.000000     0.300000     0.300000         0.000000         0.300000   \n",
              "3       0.485913     0.056604     0.452830         2.220088         0.226415   \n",
              "4       0.121821     0.111111     0.185185         1.940843         0.139701   \n",
              "\n",
              "   ...  rwh_0_max    rwh_1_mean  rwh_1_coeff     rwh_1_min     rwh_1_max  \\\n",
              "0  ...    78750.0      0.000008          0.0  7.875000e-06      0.000008   \n",
              "1  ...  6646875.0  17433.722184          1.0  2.981244e-12  34867.444369   \n",
              "2  ...   500000.0   1525.878932          0.0  1.525879e+03   1525.878932   \n",
              "3  ...    87500.0      0.000122          1.0  6.535723e-14      0.000245   \n",
              "4  ...  5859400.0  16591.494310          1.0  6.912726e-42  33182.988621   \n",
              "\n",
              "     rwh_2_mean  rwh_2_coeff     rwh_2_min     rwh_2_max  target  \n",
              "0  2.385082e-21          0.0  2.385082e-21  2.385082e-21       1  \n",
              "1  1.727721e+04          1.0  1.358551e-53  3.455442e+04       0  \n",
              "2  1.525879e+03          0.0  1.525879e+03  1.525879e+03       1  \n",
              "3  8.218628e-07          1.0  1.499676e-61  1.643726e-06       0  \n",
              "4  1.665903e+04          1.0  0.000000e+00  3.331807e+04       1  \n",
              "\n",
              "[5 rows x 328 columns]"
            ],
            "text/html": [
              "\n",
              "  <div id=\"df-376e13c4-3fa0-4c6f-abe8-777c733315fa\">\n",
              "    <div class=\"colab-df-container\">\n",
              "      <div>\n",
              "<style scoped>\n",
              "    .dataframe tbody tr th:only-of-type {\n",
              "        vertical-align: middle;\n",
              "    }\n",
              "\n",
              "    .dataframe tbody tr th {\n",
              "        vertical-align: top;\n",
              "    }\n",
              "\n",
              "    .dataframe thead th {\n",
              "        text-align: right;\n",
              "    }\n",
              "</style>\n",
              "<table border=\"1\" class=\"dataframe\">\n",
              "  <thead>\n",
              "    <tr style=\"text-align: right;\">\n",
              "      <th></th>\n",
              "      <th>c</th>\n",
              "      <th>v</th>\n",
              "      <th>clauses_vars_ratio</th>\n",
              "      <th>vars_clauses_ratio</th>\n",
              "      <th>vcg_var_mean</th>\n",
              "      <th>vcg_var_coeff</th>\n",
              "      <th>vcg_var_min</th>\n",
              "      <th>vcg_var_max</th>\n",
              "      <th>vcg_var_entropy</th>\n",
              "      <th>vcg_clause_mean</th>\n",
              "      <th>...</th>\n",
              "      <th>rwh_0_max</th>\n",
              "      <th>rwh_1_mean</th>\n",
              "      <th>rwh_1_coeff</th>\n",
              "      <th>rwh_1_min</th>\n",
              "      <th>rwh_1_max</th>\n",
              "      <th>rwh_2_mean</th>\n",
              "      <th>rwh_2_coeff</th>\n",
              "      <th>rwh_2_min</th>\n",
              "      <th>rwh_2_max</th>\n",
              "      <th>target</th>\n",
              "    </tr>\n",
              "  </thead>\n",
              "  <tbody>\n",
              "    <tr>\n",
              "      <th>0</th>\n",
              "      <td>420</td>\n",
              "      <td>10</td>\n",
              "      <td>42.000000</td>\n",
              "      <td>0.023810</td>\n",
              "      <td>0.600000</td>\n",
              "      <td>0.000000</td>\n",
              "      <td>0.600000</td>\n",
              "      <td>0.600000</td>\n",
              "      <td>0.000000</td>\n",
              "      <td>0.600000</td>\n",
              "      <td>...</td>\n",
              "      <td>78750.0</td>\n",
              "      <td>0.000008</td>\n",
              "      <td>0.0</td>\n",
              "      <td>7.875000e-06</td>\n",
              "      <td>0.000008</td>\n",
              "      <td>2.385082e-21</td>\n",
              "      <td>0.0</td>\n",
              "      <td>2.385082e-21</td>\n",
              "      <td>2.385082e-21</td>\n",
              "      <td>1</td>\n",
              "    </tr>\n",
              "    <tr>\n",
              "      <th>1</th>\n",
              "      <td>230</td>\n",
              "      <td>20</td>\n",
              "      <td>11.500000</td>\n",
              "      <td>0.086957</td>\n",
              "      <td>0.137826</td>\n",
              "      <td>0.089281</td>\n",
              "      <td>0.117391</td>\n",
              "      <td>0.160870</td>\n",
              "      <td>2.180946</td>\n",
              "      <td>0.137826</td>\n",
              "      <td>...</td>\n",
              "      <td>6646875.0</td>\n",
              "      <td>17433.722184</td>\n",
              "      <td>1.0</td>\n",
              "      <td>2.981244e-12</td>\n",
              "      <td>34867.444369</td>\n",
              "      <td>1.727721e+04</td>\n",
              "      <td>1.0</td>\n",
              "      <td>1.358551e-53</td>\n",
              "      <td>3.455442e+04</td>\n",
              "      <td>0</td>\n",
              "    </tr>\n",
              "    <tr>\n",
              "      <th>2</th>\n",
              "      <td>240</td>\n",
              "      <td>16</td>\n",
              "      <td>15.000000</td>\n",
              "      <td>0.066667</td>\n",
              "      <td>0.300000</td>\n",
              "      <td>0.000000</td>\n",
              "      <td>0.300000</td>\n",
              "      <td>0.300000</td>\n",
              "      <td>0.000000</td>\n",
              "      <td>0.300000</td>\n",
              "      <td>...</td>\n",
              "      <td>500000.0</td>\n",
              "      <td>1525.878932</td>\n",
              "      <td>0.0</td>\n",
              "      <td>1.525879e+03</td>\n",
              "      <td>1525.878932</td>\n",
              "      <td>1.525879e+03</td>\n",
              "      <td>0.0</td>\n",
              "      <td>1.525879e+03</td>\n",
              "      <td>1.525879e+03</td>\n",
              "      <td>1</td>\n",
              "    </tr>\n",
              "    <tr>\n",
              "      <th>3</th>\n",
              "      <td>424</td>\n",
              "      <td>30</td>\n",
              "      <td>14.133333</td>\n",
              "      <td>0.070755</td>\n",
              "      <td>0.226415</td>\n",
              "      <td>0.485913</td>\n",
              "      <td>0.056604</td>\n",
              "      <td>0.452830</td>\n",
              "      <td>2.220088</td>\n",
              "      <td>0.226415</td>\n",
              "      <td>...</td>\n",
              "      <td>87500.0</td>\n",
              "      <td>0.000122</td>\n",
              "      <td>1.0</td>\n",
              "      <td>6.535723e-14</td>\n",
              "      <td>0.000245</td>\n",
              "      <td>8.218628e-07</td>\n",
              "      <td>1.0</td>\n",
              "      <td>1.499676e-61</td>\n",
              "      <td>1.643726e-06</td>\n",
              "      <td>0</td>\n",
              "    </tr>\n",
              "    <tr>\n",
              "      <th>4</th>\n",
              "      <td>162</td>\n",
              "      <td>19</td>\n",
              "      <td>8.526316</td>\n",
              "      <td>0.117284</td>\n",
              "      <td>0.139701</td>\n",
              "      <td>0.121821</td>\n",
              "      <td>0.111111</td>\n",
              "      <td>0.185185</td>\n",
              "      <td>1.940843</td>\n",
              "      <td>0.139701</td>\n",
              "      <td>...</td>\n",
              "      <td>5859400.0</td>\n",
              "      <td>16591.494310</td>\n",
              "      <td>1.0</td>\n",
              "      <td>6.912726e-42</td>\n",
              "      <td>33182.988621</td>\n",
              "      <td>1.665903e+04</td>\n",
              "      <td>1.0</td>\n",
              "      <td>0.000000e+00</td>\n",
              "      <td>3.331807e+04</td>\n",
              "      <td>1</td>\n",
              "    </tr>\n",
              "  </tbody>\n",
              "</table>\n",
              "<p>5 rows × 328 columns</p>\n",
              "</div>\n",
              "      <button class=\"colab-df-convert\" onclick=\"convertToInteractive('df-376e13c4-3fa0-4c6f-abe8-777c733315fa')\"\n",
              "              title=\"Convert this dataframe to an interactive table.\"\n",
              "              style=\"display:none;\">\n",
              "        \n",
              "  <svg xmlns=\"http://www.w3.org/2000/svg\" height=\"24px\"viewBox=\"0 0 24 24\"\n",
              "       width=\"24px\">\n",
              "    <path d=\"M0 0h24v24H0V0z\" fill=\"none\"/>\n",
              "    <path d=\"M18.56 5.44l.94 2.06.94-2.06 2.06-.94-2.06-.94-.94-2.06-.94 2.06-2.06.94zm-11 1L8.5 8.5l.94-2.06 2.06-.94-2.06-.94L8.5 2.5l-.94 2.06-2.06.94zm10 10l.94 2.06.94-2.06 2.06-.94-2.06-.94-.94-2.06-.94 2.06-2.06.94z\"/><path d=\"M17.41 7.96l-1.37-1.37c-.4-.4-.92-.59-1.43-.59-.52 0-1.04.2-1.43.59L10.3 9.45l-7.72 7.72c-.78.78-.78 2.05 0 2.83L4 21.41c.39.39.9.59 1.41.59.51 0 1.02-.2 1.41-.59l7.78-7.78 2.81-2.81c.8-.78.8-2.07 0-2.86zM5.41 20L4 18.59l7.72-7.72 1.47 1.35L5.41 20z\"/>\n",
              "  </svg>\n",
              "      </button>\n",
              "      \n",
              "  <style>\n",
              "    .colab-df-container {\n",
              "      display:flex;\n",
              "      flex-wrap:wrap;\n",
              "      gap: 12px;\n",
              "    }\n",
              "\n",
              "    .colab-df-convert {\n",
              "      background-color: #E8F0FE;\n",
              "      border: none;\n",
              "      border-radius: 50%;\n",
              "      cursor: pointer;\n",
              "      display: none;\n",
              "      fill: #1967D2;\n",
              "      height: 32px;\n",
              "      padding: 0 0 0 0;\n",
              "      width: 32px;\n",
              "    }\n",
              "\n",
              "    .colab-df-convert:hover {\n",
              "      background-color: #E2EBFA;\n",
              "      box-shadow: 0px 1px 2px rgba(60, 64, 67, 0.3), 0px 1px 3px 1px rgba(60, 64, 67, 0.15);\n",
              "      fill: #174EA6;\n",
              "    }\n",
              "\n",
              "    [theme=dark] .colab-df-convert {\n",
              "      background-color: #3B4455;\n",
              "      fill: #D2E3FC;\n",
              "    }\n",
              "\n",
              "    [theme=dark] .colab-df-convert:hover {\n",
              "      background-color: #434B5C;\n",
              "      box-shadow: 0px 1px 3px 1px rgba(0, 0, 0, 0.15);\n",
              "      filter: drop-shadow(0px 1px 2px rgba(0, 0, 0, 0.3));\n",
              "      fill: #FFFFFF;\n",
              "    }\n",
              "  </style>\n",
              "\n",
              "      <script>\n",
              "        const buttonEl =\n",
              "          document.querySelector('#df-376e13c4-3fa0-4c6f-abe8-777c733315fa button.colab-df-convert');\n",
              "        buttonEl.style.display =\n",
              "          google.colab.kernel.accessAllowed ? 'block' : 'none';\n",
              "\n",
              "        async function convertToInteractive(key) {\n",
              "          const element = document.querySelector('#df-376e13c4-3fa0-4c6f-abe8-777c733315fa');\n",
              "          const dataTable =\n",
              "            await google.colab.kernel.invokeFunction('convertToInteractive',\n",
              "                                                     [key], {});\n",
              "          if (!dataTable) return;\n",
              "\n",
              "          const docLinkHtml = 'Like what you see? Visit the ' +\n",
              "            '<a target=\"_blank\" href=https://colab.research.google.com/notebooks/data_table.ipynb>data table notebook</a>'\n",
              "            + ' to learn more about interactive tables.';\n",
              "          element.innerHTML = '';\n",
              "          dataTable['output_type'] = 'display_data';\n",
              "          await google.colab.output.renderOutput(dataTable, element);\n",
              "          const docLink = document.createElement('div');\n",
              "          docLink.innerHTML = docLinkHtml;\n",
              "          element.appendChild(docLink);\n",
              "        }\n",
              "      </script>\n",
              "    </div>\n",
              "  </div>\n",
              "  "
            ]
          },
          "metadata": {},
          "execution_count": 98
        }
      ]
    },
    {
      "cell_type": "code",
      "source": [
        "df.dtypes"
      ],
      "metadata": {
        "colab": {
          "base_uri": "https://localhost:8080/"
        },
        "id": "WOqpQTS-K8EN",
        "outputId": "b263e6a1-ba99-4ce8-9af2-9bb8d3871649"
      },
      "execution_count": 99,
      "outputs": [
        {
          "output_type": "execute_result",
          "data": {
            "text/plain": [
              "c                       int64\n",
              "v                       int64\n",
              "clauses_vars_ratio    float64\n",
              "vars_clauses_ratio    float64\n",
              "vcg_var_mean          float64\n",
              "                       ...   \n",
              "rwh_2_mean            float64\n",
              "rwh_2_coeff           float64\n",
              "rwh_2_min             float64\n",
              "rwh_2_max             float64\n",
              "target                  int64\n",
              "Length: 328, dtype: object"
            ]
          },
          "metadata": {},
          "execution_count": 99
        }
      ]
    },
    {
      "cell_type": "code",
      "source": [
        "df['target'].value_counts()"
      ],
      "metadata": {
        "colab": {
          "base_uri": "https://localhost:8080/"
        },
        "id": "N8MCvTYTKw4Q",
        "outputId": "01c9f8c3-4e63-4c16-d28d-622a9e45452b"
      },
      "execution_count": 100,
      "outputs": [
        {
          "output_type": "execute_result",
          "data": {
            "text/plain": [
              "1    976\n",
              "0    953\n",
              "Name: target, dtype: int64"
            ]
          },
          "metadata": {},
          "execution_count": 100
        }
      ]
    },
    {
      "cell_type": "markdown",
      "source": [
        "check if dataframe has infinite or missing values"
      ],
      "metadata": {
        "id": "lSVTaRELc8vs"
      }
    },
    {
      "cell_type": "code",
      "source": [
        "import numpy as np\n",
        "ds = df.isin([np.inf, -np.inf])\n",
        "print(\"Infinity values\",ds.sum().sum())\n",
        "ds2=df.isnull().sum().sum()\n",
        "print(\"Nan values\",ds2)"
      ],
      "metadata": {
        "colab": {
          "base_uri": "https://localhost:8080/"
        },
        "id": "qtFuu6jmdBMH",
        "outputId": "23beaac9-bfe7-4581-ef3a-62a2ce49e8af"
      },
      "execution_count": 101,
      "outputs": [
        {
          "output_type": "stream",
          "name": "stdout",
          "text": [
            "Infinity values 649\n",
            "Nan values 15808\n"
          ]
        }
      ]
    },
    {
      "cell_type": "markdown",
      "source": [
        "print the columns containing missing values"
      ],
      "metadata": {
        "id": "tzjw34UuZeQe"
      }
    },
    {
      "cell_type": "code",
      "source": [
        "count=df.isnull().sum()\n",
        "for i,j in count.items():\n",
        "  if(int(j)>1):\n",
        "    print(i,j)"
      ],
      "metadata": {
        "id": "IEjqR2xLKjec",
        "colab": {
          "base_uri": "https://localhost:8080/"
        },
        "outputId": "5315d9a9-512d-4372-ea1b-f4193cb706c1"
      },
      "execution_count": 102,
      "outputs": [
        {
          "output_type": "stream",
          "name": "stdout",
          "text": [
            "v_nd_p_weights_entropy 1929\n",
            "v_nd_n_weights_entropy 1929\n",
            "c_nd_p_weights_entropy 1929\n",
            "c_nd_n_weights_entropy 1929\n",
            "rg_node_entropy 44\n",
            "rg_weights_entropy 44\n",
            "big_node_entropy 362\n",
            "big_weights_entropy 362\n",
            "and_node_entropy 787\n",
            "and_weights_entropy 787\n",
            "band_node_entropy 1076\n",
            "band_weights_entropy 1076\n",
            "exo_node_entropy 1776\n",
            "exo_weights_entropy 1776\n"
          ]
        }
      ]
    },
    {
      "cell_type": "markdown",
      "source": [
        "The first four columns have missing values for all rows, so we can remove(drop) them, we can use test statistic values to replace for the columns having fewer na values, and replace the columns having higher count of na values with 0"
      ],
      "metadata": {
        "id": "Uglz6tF6ZpXX"
      }
    },
    {
      "cell_type": "code",
      "source": [
        "mean_value1=df['rg_node_entropy'].mean()\n",
        "df['rg_node_entropy']=df['rg_node_entropy'].fillna(mean_value1)\n",
        "\n",
        "mean_value2=df['rg_weights_entropy'].mean()\n",
        "df['rg_weights_entropy']=df['rg_weights_entropy'].fillna(mean_value2)\n",
        "\n",
        "mean_value3=df['big_node_entropy'].mean()\n",
        "df['big_node_entropy']=df['big_node_entropy'].fillna(mean_value3)\n",
        "\n",
        "mean_value4=df['big_weights_entropy'].mean()\n",
        "df['big_weights_entropy']=df['big_weights_entropy'].fillna(mean_value4)\n",
        "\n",
        "mean_value5=df['and_node_entropy'].mean()\n",
        "df['and_node_entropy']=df['and_node_entropy'].fillna(mean_value5)\n",
        "\n",
        "mean_value6=df['and_weights_entropy'].mean()\n",
        "df['and_weights_entropy']=df['and_weights_entropy'].fillna(mean_value6)"
      ],
      "metadata": {
        "id": "3A5zwAkVaQ2I"
      },
      "execution_count": 103,
      "outputs": []
    },
    {
      "cell_type": "code",
      "source": [
        "df=df.fillna(0)"
      ],
      "metadata": {
        "id": "Y1MnJ_zlavPV"
      },
      "execution_count": 104,
      "outputs": []
    },
    {
      "cell_type": "markdown",
      "source": [
        "check if any missing values left"
      ],
      "metadata": {
        "id": "opsNuSOMa0Sk"
      }
    },
    {
      "cell_type": "code",
      "source": [
        "df.isnull().sum().sum()"
      ],
      "metadata": {
        "colab": {
          "base_uri": "https://localhost:8080/"
        },
        "id": "jck9gBYIayXB",
        "outputId": "4a993171-1849-46c1-b072-00e0fa6bcb86"
      },
      "execution_count": 105,
      "outputs": [
        {
          "output_type": "execute_result",
          "data": {
            "text/plain": [
              "0"
            ]
          },
          "metadata": {},
          "execution_count": 105
        }
      ]
    },
    {
      "cell_type": "code",
      "source": [
        "df.replace([np.inf,-np.inf],np.nan,inplace=True)\n",
        "df=df.fillna(0)"
      ],
      "metadata": {
        "id": "I3HihzC-eVW-"
      },
      "execution_count": 106,
      "outputs": []
    },
    {
      "cell_type": "markdown",
      "source": [
        "check if any infinity values left"
      ],
      "metadata": {
        "id": "zPmUyKEZei9G"
      }
    },
    {
      "cell_type": "code",
      "source": [
        "ds = df.isin([np.inf, -np.inf])\n",
        "print(\"Infinity values\",ds.sum().sum())"
      ],
      "metadata": {
        "colab": {
          "base_uri": "https://localhost:8080/"
        },
        "id": "rRFGisBEeiZv",
        "outputId": "62beb7a0-e8aa-4b32-99a5-424df9282100"
      },
      "execution_count": 107,
      "outputs": [
        {
          "output_type": "stream",
          "name": "stdout",
          "text": [
            "Infinity values 0\n"
          ]
        }
      ]
    },
    {
      "cell_type": "markdown",
      "source": [
        "# Tasks\n",
        "\n",
        "## Basic models and evaluation (5 Marks)\n",
        "\n",
        "Using Scikit-learn, train and evaluate K-NN and decision tree classifiers using 70% of the dataset from training and 30% for testing. For this part of the project, we are not interested in optimising the parameters; we just want to get an idea of the dataset. Compare the results of both classifiers."
      ],
      "metadata": {
        "id": "MTvkBPQvITf-"
      }
    },
    {
      "cell_type": "code",
      "source": [
        "# YOUR CODE HERE\n",
        "X=df.iloc[:,:327]\n",
        "Y=df['target']\n",
        "from sklearn.model_selection import train_test_split\n",
        "X_train,X_test,Y_train,Y_test=train_test_split(X,Y,test_size=0.3,random_state=42)\n",
        "from sklearn.neighbors import KNeighborsClassifier\n",
        "knn_model = KNeighborsClassifier()\n",
        "knn_model.fit(X_train, Y_train)\n",
        "y_pred_knn=knn_model.predict(X_test)\n",
        "from sklearn import metrics\n",
        "print(\"Accuracy for KNN:\",metrics.accuracy_score(Y_test, y_pred_knn))\n",
        "from sklearn.tree import DecisionTreeClassifier\n",
        "dt_model = DecisionTreeClassifier()\n",
        "dt_model = dt_model.fit(X_train,Y_train)\n",
        "y_pred_dt=dt_model.predict(X_test)\n",
        "print(\"Accuracy for Decision Tree:\",metrics.accuracy_score(Y_test,y_pred_dt))"
      ],
      "metadata": {
        "id": "Zl0VXO0YH1nG",
        "colab": {
          "base_uri": "https://localhost:8080/"
        },
        "outputId": "2370a882-336a-412a-cda4-facbb14eec46"
      },
      "execution_count": 108,
      "outputs": [
        {
          "output_type": "stream",
          "name": "stdout",
          "text": [
            "Accuracy for KNN: 0.7806563039723662\n",
            "Accuracy for Decision Tree: 0.9620034542314335\n"
          ]
        }
      ]
    },
    {
      "cell_type": "markdown",
      "source": [
        "## Robust evaluation (10 Marks)\n",
        "\n",
        "In this section, we are interested in more rigorous techniques by implementing more sophisticated methods, for instance:\n",
        "* Hold-out and cross-validation.\n",
        "* Hyper-parameter tuning.\n",
        "* Feature reduction.\n",
        "* Feature normalisation.\n",
        "\n",
        "Your report should provide concrete information of your reasoning; everything should be well-explained.\n",
        "\n",
        "Do not get stressed if the things you try do not improve the accuracy. The key to geting good marks is to show that you evaluated different methods and that you correctly selected the configuration."
      ],
      "metadata": {
        "id": "zADpr0f8IcGL"
      }
    },
    {
      "cell_type": "markdown",
      "source": [
        "The accuracy for knn is low, for which we try to improve the performance "
      ],
      "metadata": {
        "id": "xErnJKzWkE1g"
      }
    },
    {
      "cell_type": "markdown",
      "source": [
        "**Step 1**: Since knn is a distance based algorithm, we have to rescale the features having different units to have same scale."
      ],
      "metadata": {
        "id": "xImdIqWTmIbY"
      }
    },
    {
      "cell_type": "code",
      "source": [
        "df.describe()"
      ],
      "metadata": {
        "colab": {
          "base_uri": "https://localhost:8080/",
          "height": 393
        },
        "id": "rOpVGYoUmesA",
        "outputId": "93e50c21-c9b3-4fa1-ef47-24d9b028f0c1"
      },
      "execution_count": 109,
      "outputs": [
        {
          "output_type": "execute_result",
          "data": {
            "text/plain": [
              "                 c            v  clauses_vars_ratio  vars_clauses_ratio  \\\n",
              "count  1929.000000  1929.000000         1929.000000         1929.000000   \n",
              "mean    549.087092    57.689995           11.072950            0.134343   \n",
              "std     446.746934    50.556307            8.141268            0.084303   \n",
              "min       1.000000     2.000000            0.500000            0.022727   \n",
              "25%     222.000000    27.000000            5.333333            0.070755   \n",
              "50%     404.000000    39.000000            8.000000            0.125000   \n",
              "75%     776.000000    70.000000           14.133333            0.187500   \n",
              "max    1890.000000   226.000000           44.000000            2.000000   \n",
              "\n",
              "       vcg_var_mean  vcg_var_coeff  vcg_var_min  vcg_var_max  vcg_var_entropy  \\\n",
              "count   1929.000000    1929.000000  1929.000000  1929.000000      1929.000000   \n",
              "mean       0.111101       0.209920     0.073509     0.161222         1.758409   \n",
              "std        0.103638       0.189588     0.090287     0.156326         0.898686   \n",
              "min        0.014386       0.000000     0.002368     0.015538         0.000000   \n",
              "25%        0.039427       0.056449     0.024882     0.058182         1.091349   \n",
              "50%        0.079902       0.176697     0.048246     0.103053         1.866538   \n",
              "75%        0.145299       0.282668     0.085714     0.185714         2.359619   \n",
              "max        1.000000       1.308621     1.000000     1.000000         3.959478   \n",
              "\n",
              "       vcg_clause_mean  ...     rwh_0_max     rwh_1_mean  rwh_1_coeff  \\\n",
              "count      1929.000000  ...  1.929000e+03    1929.000000  1929.000000   \n",
              "mean          0.111101  ...  4.391681e+06    8645.001262     0.846796   \n",
              "std           0.103638  ...  5.428499e+06   26216.028598     0.346169   \n",
              "min           0.014386  ...  0.000000e+00       0.000000     0.000000   \n",
              "25%           0.039427  ...  4.687500e+05       0.738796     0.999602   \n",
              "50%           0.079902  ...  3.125000e+06     453.017692     1.000000   \n",
              "75%           0.145299  ...  6.328125e+06    7077.674591     1.000000   \n",
              "max           1.000000  ...  4.062500e+07  343561.828269     1.000000   \n",
              "\n",
              "          rwh_1_min      rwh_1_max     rwh_2_mean  rwh_2_coeff     rwh_2_min  \\\n",
              "count  1.929000e+03    1929.000000    1929.000000  1929.000000  1.929000e+03   \n",
              "mean   1.213078e+03   16076.924800   16377.181091     0.866337  1.284981e+03   \n",
              "std    1.003112e+04   48104.066684   43597.829247     0.327328  9.951460e+03   \n",
              "min    0.000000e+00       0.000000       0.000000     0.000000  0.000000e+00   \n",
              "25%    4.724060e-71       0.975101       7.152557     1.000000  0.000000e+00   \n",
              "50%    5.132110e-20     893.758807     976.562500     1.000000  6.033537e-81   \n",
              "75%    3.289401e-05   14155.349182    9525.920146     1.000000  2.843545e-12   \n",
              "max    1.736111e+05  602048.861130  386723.660084     1.000000  1.736111e+05   \n",
              "\n",
              "           rwh_2_max       target  \n",
              "count    1929.000000  1929.000000  \n",
              "mean    31469.380944     0.505962  \n",
              "std     84954.358986     0.500094  \n",
              "min         0.000000     0.000000  \n",
              "25%        12.649950     0.000000  \n",
              "50%      1712.975661     1.000000  \n",
              "75%     19051.840291     1.000000  \n",
              "max    773447.302106     1.000000  \n",
              "\n",
              "[8 rows x 328 columns]"
            ],
            "text/html": [
              "\n",
              "  <div id=\"df-f33aaffa-0a32-4744-ad24-1c15c3755098\">\n",
              "    <div class=\"colab-df-container\">\n",
              "      <div>\n",
              "<style scoped>\n",
              "    .dataframe tbody tr th:only-of-type {\n",
              "        vertical-align: middle;\n",
              "    }\n",
              "\n",
              "    .dataframe tbody tr th {\n",
              "        vertical-align: top;\n",
              "    }\n",
              "\n",
              "    .dataframe thead th {\n",
              "        text-align: right;\n",
              "    }\n",
              "</style>\n",
              "<table border=\"1\" class=\"dataframe\">\n",
              "  <thead>\n",
              "    <tr style=\"text-align: right;\">\n",
              "      <th></th>\n",
              "      <th>c</th>\n",
              "      <th>v</th>\n",
              "      <th>clauses_vars_ratio</th>\n",
              "      <th>vars_clauses_ratio</th>\n",
              "      <th>vcg_var_mean</th>\n",
              "      <th>vcg_var_coeff</th>\n",
              "      <th>vcg_var_min</th>\n",
              "      <th>vcg_var_max</th>\n",
              "      <th>vcg_var_entropy</th>\n",
              "      <th>vcg_clause_mean</th>\n",
              "      <th>...</th>\n",
              "      <th>rwh_0_max</th>\n",
              "      <th>rwh_1_mean</th>\n",
              "      <th>rwh_1_coeff</th>\n",
              "      <th>rwh_1_min</th>\n",
              "      <th>rwh_1_max</th>\n",
              "      <th>rwh_2_mean</th>\n",
              "      <th>rwh_2_coeff</th>\n",
              "      <th>rwh_2_min</th>\n",
              "      <th>rwh_2_max</th>\n",
              "      <th>target</th>\n",
              "    </tr>\n",
              "  </thead>\n",
              "  <tbody>\n",
              "    <tr>\n",
              "      <th>count</th>\n",
              "      <td>1929.000000</td>\n",
              "      <td>1929.000000</td>\n",
              "      <td>1929.000000</td>\n",
              "      <td>1929.000000</td>\n",
              "      <td>1929.000000</td>\n",
              "      <td>1929.000000</td>\n",
              "      <td>1929.000000</td>\n",
              "      <td>1929.000000</td>\n",
              "      <td>1929.000000</td>\n",
              "      <td>1929.000000</td>\n",
              "      <td>...</td>\n",
              "      <td>1.929000e+03</td>\n",
              "      <td>1929.000000</td>\n",
              "      <td>1929.000000</td>\n",
              "      <td>1.929000e+03</td>\n",
              "      <td>1929.000000</td>\n",
              "      <td>1929.000000</td>\n",
              "      <td>1929.000000</td>\n",
              "      <td>1.929000e+03</td>\n",
              "      <td>1929.000000</td>\n",
              "      <td>1929.000000</td>\n",
              "    </tr>\n",
              "    <tr>\n",
              "      <th>mean</th>\n",
              "      <td>549.087092</td>\n",
              "      <td>57.689995</td>\n",
              "      <td>11.072950</td>\n",
              "      <td>0.134343</td>\n",
              "      <td>0.111101</td>\n",
              "      <td>0.209920</td>\n",
              "      <td>0.073509</td>\n",
              "      <td>0.161222</td>\n",
              "      <td>1.758409</td>\n",
              "      <td>0.111101</td>\n",
              "      <td>...</td>\n",
              "      <td>4.391681e+06</td>\n",
              "      <td>8645.001262</td>\n",
              "      <td>0.846796</td>\n",
              "      <td>1.213078e+03</td>\n",
              "      <td>16076.924800</td>\n",
              "      <td>16377.181091</td>\n",
              "      <td>0.866337</td>\n",
              "      <td>1.284981e+03</td>\n",
              "      <td>31469.380944</td>\n",
              "      <td>0.505962</td>\n",
              "    </tr>\n",
              "    <tr>\n",
              "      <th>std</th>\n",
              "      <td>446.746934</td>\n",
              "      <td>50.556307</td>\n",
              "      <td>8.141268</td>\n",
              "      <td>0.084303</td>\n",
              "      <td>0.103638</td>\n",
              "      <td>0.189588</td>\n",
              "      <td>0.090287</td>\n",
              "      <td>0.156326</td>\n",
              "      <td>0.898686</td>\n",
              "      <td>0.103638</td>\n",
              "      <td>...</td>\n",
              "      <td>5.428499e+06</td>\n",
              "      <td>26216.028598</td>\n",
              "      <td>0.346169</td>\n",
              "      <td>1.003112e+04</td>\n",
              "      <td>48104.066684</td>\n",
              "      <td>43597.829247</td>\n",
              "      <td>0.327328</td>\n",
              "      <td>9.951460e+03</td>\n",
              "      <td>84954.358986</td>\n",
              "      <td>0.500094</td>\n",
              "    </tr>\n",
              "    <tr>\n",
              "      <th>min</th>\n",
              "      <td>1.000000</td>\n",
              "      <td>2.000000</td>\n",
              "      <td>0.500000</td>\n",
              "      <td>0.022727</td>\n",
              "      <td>0.014386</td>\n",
              "      <td>0.000000</td>\n",
              "      <td>0.002368</td>\n",
              "      <td>0.015538</td>\n",
              "      <td>0.000000</td>\n",
              "      <td>0.014386</td>\n",
              "      <td>...</td>\n",
              "      <td>0.000000e+00</td>\n",
              "      <td>0.000000</td>\n",
              "      <td>0.000000</td>\n",
              "      <td>0.000000e+00</td>\n",
              "      <td>0.000000</td>\n",
              "      <td>0.000000</td>\n",
              "      <td>0.000000</td>\n",
              "      <td>0.000000e+00</td>\n",
              "      <td>0.000000</td>\n",
              "      <td>0.000000</td>\n",
              "    </tr>\n",
              "    <tr>\n",
              "      <th>25%</th>\n",
              "      <td>222.000000</td>\n",
              "      <td>27.000000</td>\n",
              "      <td>5.333333</td>\n",
              "      <td>0.070755</td>\n",
              "      <td>0.039427</td>\n",
              "      <td>0.056449</td>\n",
              "      <td>0.024882</td>\n",
              "      <td>0.058182</td>\n",
              "      <td>1.091349</td>\n",
              "      <td>0.039427</td>\n",
              "      <td>...</td>\n",
              "      <td>4.687500e+05</td>\n",
              "      <td>0.738796</td>\n",
              "      <td>0.999602</td>\n",
              "      <td>4.724060e-71</td>\n",
              "      <td>0.975101</td>\n",
              "      <td>7.152557</td>\n",
              "      <td>1.000000</td>\n",
              "      <td>0.000000e+00</td>\n",
              "      <td>12.649950</td>\n",
              "      <td>0.000000</td>\n",
              "    </tr>\n",
              "    <tr>\n",
              "      <th>50%</th>\n",
              "      <td>404.000000</td>\n",
              "      <td>39.000000</td>\n",
              "      <td>8.000000</td>\n",
              "      <td>0.125000</td>\n",
              "      <td>0.079902</td>\n",
              "      <td>0.176697</td>\n",
              "      <td>0.048246</td>\n",
              "      <td>0.103053</td>\n",
              "      <td>1.866538</td>\n",
              "      <td>0.079902</td>\n",
              "      <td>...</td>\n",
              "      <td>3.125000e+06</td>\n",
              "      <td>453.017692</td>\n",
              "      <td>1.000000</td>\n",
              "      <td>5.132110e-20</td>\n",
              "      <td>893.758807</td>\n",
              "      <td>976.562500</td>\n",
              "      <td>1.000000</td>\n",
              "      <td>6.033537e-81</td>\n",
              "      <td>1712.975661</td>\n",
              "      <td>1.000000</td>\n",
              "    </tr>\n",
              "    <tr>\n",
              "      <th>75%</th>\n",
              "      <td>776.000000</td>\n",
              "      <td>70.000000</td>\n",
              "      <td>14.133333</td>\n",
              "      <td>0.187500</td>\n",
              "      <td>0.145299</td>\n",
              "      <td>0.282668</td>\n",
              "      <td>0.085714</td>\n",
              "      <td>0.185714</td>\n",
              "      <td>2.359619</td>\n",
              "      <td>0.145299</td>\n",
              "      <td>...</td>\n",
              "      <td>6.328125e+06</td>\n",
              "      <td>7077.674591</td>\n",
              "      <td>1.000000</td>\n",
              "      <td>3.289401e-05</td>\n",
              "      <td>14155.349182</td>\n",
              "      <td>9525.920146</td>\n",
              "      <td>1.000000</td>\n",
              "      <td>2.843545e-12</td>\n",
              "      <td>19051.840291</td>\n",
              "      <td>1.000000</td>\n",
              "    </tr>\n",
              "    <tr>\n",
              "      <th>max</th>\n",
              "      <td>1890.000000</td>\n",
              "      <td>226.000000</td>\n",
              "      <td>44.000000</td>\n",
              "      <td>2.000000</td>\n",
              "      <td>1.000000</td>\n",
              "      <td>1.308621</td>\n",
              "      <td>1.000000</td>\n",
              "      <td>1.000000</td>\n",
              "      <td>3.959478</td>\n",
              "      <td>1.000000</td>\n",
              "      <td>...</td>\n",
              "      <td>4.062500e+07</td>\n",
              "      <td>343561.828269</td>\n",
              "      <td>1.000000</td>\n",
              "      <td>1.736111e+05</td>\n",
              "      <td>602048.861130</td>\n",
              "      <td>386723.660084</td>\n",
              "      <td>1.000000</td>\n",
              "      <td>1.736111e+05</td>\n",
              "      <td>773447.302106</td>\n",
              "      <td>1.000000</td>\n",
              "    </tr>\n",
              "  </tbody>\n",
              "</table>\n",
              "<p>8 rows × 328 columns</p>\n",
              "</div>\n",
              "      <button class=\"colab-df-convert\" onclick=\"convertToInteractive('df-f33aaffa-0a32-4744-ad24-1c15c3755098')\"\n",
              "              title=\"Convert this dataframe to an interactive table.\"\n",
              "              style=\"display:none;\">\n",
              "        \n",
              "  <svg xmlns=\"http://www.w3.org/2000/svg\" height=\"24px\"viewBox=\"0 0 24 24\"\n",
              "       width=\"24px\">\n",
              "    <path d=\"M0 0h24v24H0V0z\" fill=\"none\"/>\n",
              "    <path d=\"M18.56 5.44l.94 2.06.94-2.06 2.06-.94-2.06-.94-.94-2.06-.94 2.06-2.06.94zm-11 1L8.5 8.5l.94-2.06 2.06-.94-2.06-.94L8.5 2.5l-.94 2.06-2.06.94zm10 10l.94 2.06.94-2.06 2.06-.94-2.06-.94-.94-2.06-.94 2.06-2.06.94z\"/><path d=\"M17.41 7.96l-1.37-1.37c-.4-.4-.92-.59-1.43-.59-.52 0-1.04.2-1.43.59L10.3 9.45l-7.72 7.72c-.78.78-.78 2.05 0 2.83L4 21.41c.39.39.9.59 1.41.59.51 0 1.02-.2 1.41-.59l7.78-7.78 2.81-2.81c.8-.78.8-2.07 0-2.86zM5.41 20L4 18.59l7.72-7.72 1.47 1.35L5.41 20z\"/>\n",
              "  </svg>\n",
              "      </button>\n",
              "      \n",
              "  <style>\n",
              "    .colab-df-container {\n",
              "      display:flex;\n",
              "      flex-wrap:wrap;\n",
              "      gap: 12px;\n",
              "    }\n",
              "\n",
              "    .colab-df-convert {\n",
              "      background-color: #E8F0FE;\n",
              "      border: none;\n",
              "      border-radius: 50%;\n",
              "      cursor: pointer;\n",
              "      display: none;\n",
              "      fill: #1967D2;\n",
              "      height: 32px;\n",
              "      padding: 0 0 0 0;\n",
              "      width: 32px;\n",
              "    }\n",
              "\n",
              "    .colab-df-convert:hover {\n",
              "      background-color: #E2EBFA;\n",
              "      box-shadow: 0px 1px 2px rgba(60, 64, 67, 0.3), 0px 1px 3px 1px rgba(60, 64, 67, 0.15);\n",
              "      fill: #174EA6;\n",
              "    }\n",
              "\n",
              "    [theme=dark] .colab-df-convert {\n",
              "      background-color: #3B4455;\n",
              "      fill: #D2E3FC;\n",
              "    }\n",
              "\n",
              "    [theme=dark] .colab-df-convert:hover {\n",
              "      background-color: #434B5C;\n",
              "      box-shadow: 0px 1px 3px 1px rgba(0, 0, 0, 0.15);\n",
              "      filter: drop-shadow(0px 1px 2px rgba(0, 0, 0, 0.3));\n",
              "      fill: #FFFFFF;\n",
              "    }\n",
              "  </style>\n",
              "\n",
              "      <script>\n",
              "        const buttonEl =\n",
              "          document.querySelector('#df-f33aaffa-0a32-4744-ad24-1c15c3755098 button.colab-df-convert');\n",
              "        buttonEl.style.display =\n",
              "          google.colab.kernel.accessAllowed ? 'block' : 'none';\n",
              "\n",
              "        async function convertToInteractive(key) {\n",
              "          const element = document.querySelector('#df-f33aaffa-0a32-4744-ad24-1c15c3755098');\n",
              "          const dataTable =\n",
              "            await google.colab.kernel.invokeFunction('convertToInteractive',\n",
              "                                                     [key], {});\n",
              "          if (!dataTable) return;\n",
              "\n",
              "          const docLinkHtml = 'Like what you see? Visit the ' +\n",
              "            '<a target=\"_blank\" href=https://colab.research.google.com/notebooks/data_table.ipynb>data table notebook</a>'\n",
              "            + ' to learn more about interactive tables.';\n",
              "          element.innerHTML = '';\n",
              "          dataTable['output_type'] = 'display_data';\n",
              "          await google.colab.output.renderOutput(dataTable, element);\n",
              "          const docLink = document.createElement('div');\n",
              "          docLink.innerHTML = docLinkHtml;\n",
              "          element.appendChild(docLink);\n",
              "        }\n",
              "      </script>\n",
              "    </div>\n",
              "  </div>\n",
              "  "
            ]
          },
          "metadata": {},
          "execution_count": 109
        }
      ]
    },
    {
      "cell_type": "markdown",
      "source": [
        "the mean values are in different scale for some attributes, so have to normalize it.\n",
        "try out different scaling methods for scaling, such as min-max, standard and robust."
      ],
      "metadata": {
        "id": "CTG4f6Y8wY24"
      }
    },
    {
      "cell_type": "code",
      "source": [
        "df_model1=df.copy()\n",
        "df_model2=df.copy()\n",
        "df_model3=df.copy()\n",
        "from sklearn.preprocessing import StandardScaler\n",
        "from sklearn.preprocessing import MinMaxScaler\n",
        "from sklearn.preprocessing import RobustScaler\n",
        "scalar1=StandardScaler()\n",
        "scalar2=RobustScaler()\n",
        "scalar3=MinMaxScaler()\n",
        "features=df.columns[:-1]\n",
        "features=[np.array(features)]\n",
        "for feature in features:\n",
        "  df_model1[feature]=scalar1.fit_transform(df_model1[feature])\n",
        "  df_model2[feature]=scalar2.fit_transform(df_model2[feature])\n",
        "  df_model3[feature]=scalar3.fit_transform(df_model3[feature])\n",
        "knn_1=KNeighborsClassifier()\n",
        "knn_2=KNeighborsClassifier()\n",
        "knn_3=KNeighborsClassifier()\n",
        "X1=df_model1.drop(columns=['target'])\n",
        "X2=df_model2.drop(columns=['target'])\n",
        "X3=df_model3.drop(columns=['target'])\n",
        "Y1=df_model1['target']\n",
        "Y2=df_model2['target']\n",
        "Y3=df_model3['target']\n",
        "X_train_1,X_test_1,Y_train_1,Y_test_1=train_test_split(X1,Y1,test_size=0.3,random_state=42)\n",
        "X_train_2,X_test_2,Y_train_2,Y_test_2=train_test_split(X2,Y2,test_size=0.3,random_state=42)\n",
        "X_train_3,X_test_3,Y_train_3,Y_test_3=train_test_split(X3,Y3,test_size=0.3,random_state=42)\n",
        "knn_1.fit(X_train_1,Y_train_1)\n",
        "knn_2.fit(X_train_2,Y_train_2)\n",
        "knn_3.fit(X_train_3,Y_train_3)\n",
        "y_pred_1=knn_1.predict(X_test_1)\n",
        "y_pred_2=knn_2.predict(X_test_2)\n",
        "y_pred_3=knn_3.predict(X_test_3)\n",
        "print(\"Standard Scalar Accuracy Score:\",metrics.accuracy_score(Y_test_1,y_pred_1))\n",
        "print(\"Robust Scalar Accuracy Score:\",metrics.accuracy_score(Y_test_2,y_pred_2))\n",
        "print(\"MinMax Scalar Accuracy Score:\",metrics.accuracy_score(Y_test_3,y_pred_3))"
      ],
      "metadata": {
        "colab": {
          "base_uri": "https://localhost:8080/"
        },
        "id": "HIXZ-x2Ewvbx",
        "outputId": "69a08575-a6ae-421b-a507-0a88b73c636d"
      },
      "execution_count": 112,
      "outputs": [
        {
          "output_type": "stream",
          "name": "stdout",
          "text": [
            "Standard Scalar Accuracy Score: 0.918825561312608\n",
            "Robust Scalar Accuracy Score: 0.8946459412780656\n",
            "MinMax Scalar Accuracy Score: 0.8929188255613126\n"
          ]
        }
      ]
    },
    {
      "cell_type": "markdown",
      "source": [
        "**NOTE**\n",
        "From the above result we can see for previous default settings, applied normalization/ standardization improves data accuracy. the best off the three is Standard scalar(z-score normalisation)"
      ],
      "metadata": {
        "id": "SUtK3paN25N2"
      }
    },
    {
      "cell_type": "code",
      "source": [
        "scalar=StandardScaler()\n",
        "for feature in features:\n",
        "  df[feature]=scalar.fit_transform(df[feature])\n",
        "X_scaled=df.drop(columns=['target'])\n",
        "Y_scaled=df.target\n",
        "X_train,X_test,Y_train,Y_test=train_test_split(X_scaled,Y_scaled,test_size=0.3,random_state=42)\n",
        "knn_model_scaled = KNeighborsClassifier()\n",
        "knn_model_scaled.fit(X_train, Y_train)\n",
        "y_pred_knn=knn_model_scaled.predict(X_test)\n",
        "print(\"Accuracy for KNN after scaling:\",metrics.accuracy_score(Y_test,y_pred_knn) )"
      ],
      "metadata": {
        "colab": {
          "base_uri": "https://localhost:8080/"
        },
        "id": "VKXRgUfp1djr",
        "outputId": "40cd5a3b-8c0a-46b8-b3e5-068f090c667c"
      },
      "execution_count": 113,
      "outputs": [
        {
          "output_type": "stream",
          "name": "stdout",
          "text": [
            "Accuracy for KNN after scaling: 0.918825561312608\n"
          ]
        }
      ]
    },
    {
      "cell_type": "markdown",
      "source": [
        "The model can further be optimized by selecting the best parameters that is ideal for it, through hyperparameter tuning.\n",
        "parameters can be k-value, distance metric."
      ],
      "metadata": {
        "id": "52UsrgLy6ON4"
      }
    },
    {
      "cell_type": "code",
      "source": [
        "from sklearn.model_selection import GridSearchCV\n",
        "knn=KNeighborsClassifier()\n",
        "leaf_size = list(range(1,50))\n",
        "n_neighbors = list(range(1,30))\n",
        "distance_metric=[1,2]\n",
        "hyperparameters = dict(leaf_size=leaf_size, n_neighbors=n_neighbors, p=distance_metric)\n",
        "g_search = GridSearchCV(knn, hyperparameters, cv=10)\n",
        "best_model = g_search.fit(X_train,Y_train)\n",
        "print('Best leaf_size:', best_model.best_estimator_.get_params()['leaf_size'])\n",
        "print('Best p:', best_model.best_estimator_.get_params()['p'])\n",
        "print('Best n_neighbors:', best_model.best_estimator_.get_params()['n_neighbors'])\n",
        "y_pred_tuned = best_model.predict(X_test)\n",
        "print(metrics.accuracy_score(Y_test, y_pred_tuned))"
      ],
      "metadata": {
        "id": "tvBZH6ilInsA",
        "colab": {
          "base_uri": "https://localhost:8080/"
        },
        "outputId": "59c64736-bb92-4885-f0d6-a3772cc1b8f4"
      },
      "execution_count": 115,
      "outputs": [
        {
          "output_type": "stream",
          "name": "stdout",
          "text": [
            "Best leaf_size: 1\n",
            "Best p: 1\n",
            "Best n_neighbors: 1\n",
            "0.9360967184801382\n"
          ]
        }
      ]
    },
    {
      "cell_type": "markdown",
      "source": [
        "After trying out different parameter values, the final hyperparameters are (leaf size:1,distance_metric:1(manhattan),k-val:1)"
      ],
      "metadata": {
        "id": "Sdfx68AkDDh5"
      }
    },
    {
      "cell_type": "code",
      "source": [
        "knn_model_hypertuned = KNeighborsClassifier(leaf_size=1,p=1,n_neighbors=1)\n",
        "knn_model_hypertuned.fit(X_train, Y_train)\n",
        "y_pred_knn_2=knn_model_hypertuned.predict(X_test)\n",
        "print(\"Accuracy for KNN after hyperparameter update:\",metrics.accuracy_score(Y_test,y_pred_knn_2) )"
      ],
      "metadata": {
        "colab": {
          "base_uri": "https://localhost:8080/"
        },
        "id": "iafw2Sr8Dd3Y",
        "outputId": "545f86a2-1225-48b4-98ff-78071c25005f"
      },
      "execution_count": 157,
      "outputs": [
        {
          "output_type": "stream",
          "name": "stdout",
          "text": [
            "Accuracy for KNN after hyperparameter update: 0.9360967184801382\n"
          ]
        }
      ]
    },
    {
      "cell_type": "markdown",
      "source": [
        "The next method to improve the accuracy or to optimize the model is to select the right subsets, in this dataset there are 327 features, off which some might be irrelavent, we can perform feature selection strategies to remove unnecessary features."
      ],
      "metadata": {
        "id": "TT2lOJTnBITt"
      }
    },
    {
      "cell_type": "markdown",
      "source": [
        "We use rfe(wrapper method) to select best subset of features, with stratified k fold method."
      ],
      "metadata": {
        "id": "bXZnBF0SV02i"
      }
    },
    {
      "cell_type": "code",
      "source": [
        "from sklearn.ensemble import RandomForestClassifier\n",
        "from sklearn.model_selection import StratifiedKFold\n",
        "from sklearn.feature_selection import RFECV\n",
        "rfecv=RFECV(estimator=RandomForestClassifier(),step=1,scoring='accuracy',cv=StratifiedKFold(10))\n",
        "rfecv.fit(X_scaled,Y_scaled)"
      ],
      "metadata": {
        "colab": {
          "base_uri": "https://localhost:8080/"
        },
        "id": "fn1JSU4PCC5-",
        "outputId": "bb3021d1-da58-44b9-b2e4-9eb90f0a90c6"
      },
      "execution_count": 119,
      "outputs": [
        {
          "output_type": "execute_result",
          "data": {
            "text/plain": [
              "RFECV(cv=StratifiedKFold(n_splits=10, random_state=None, shuffle=False),\n",
              "      estimator=RandomForestClassifier(), scoring='accuracy')"
            ]
          },
          "metadata": {},
          "execution_count": 119
        }
      ]
    },
    {
      "cell_type": "code",
      "source": [
        "rfecv.support_"
      ],
      "metadata": {
        "colab": {
          "base_uri": "https://localhost:8080/"
        },
        "id": "7Ts5a91mQvue",
        "outputId": "08b8e148-8e2f-4ada-e9f2-a6210e241995"
      },
      "execution_count": 124,
      "outputs": [
        {
          "output_type": "execute_result",
          "data": {
            "text/plain": [
              "array([False, False, False, False, False, False, False, False, False,\n",
              "        True,  True, False, False, False, False, False, False, False,\n",
              "       False, False, False, False, False, False,  True, False, False,\n",
              "       False, False, False, False, False, False, False, False, False,\n",
              "       False, False, False, False, False, False, False,  True,  True,\n",
              "        True,  True,  True, False, False, False, False, False, False,\n",
              "       False, False, False,  True,  True, False, False, False, False,\n",
              "       False, False, False, False, False, False, False, False, False,\n",
              "       False, False, False, False, False, False, False, False, False,\n",
              "       False, False, False, False, False, False, False, False, False,\n",
              "       False, False, False, False, False, False, False, False, False,\n",
              "       False, False, False, False, False, False, False, False, False,\n",
              "       False, False, False, False, False, False, False, False, False,\n",
              "       False, False, False,  True, False, False, False, False, False,\n",
              "       False, False, False, False, False, False, False, False, False,\n",
              "       False, False, False, False, False, False, False, False, False,\n",
              "       False, False, False, False, False, False, False, False, False,\n",
              "       False, False, False, False, False, False, False, False, False,\n",
              "       False, False, False, False, False, False, False, False, False,\n",
              "       False, False, False, False, False, False, False, False, False,\n",
              "       False, False, False, False, False, False, False, False, False,\n",
              "       False, False, False, False, False, False, False, False, False,\n",
              "       False, False, False, False, False, False, False, False, False,\n",
              "       False, False, False, False, False, False, False, False, False,\n",
              "       False, False, False, False, False, False, False, False, False,\n",
              "       False, False, False, False, False, False, False, False, False,\n",
              "       False, False, False, False, False, False, False, False, False,\n",
              "       False, False, False, False, False, False, False, False, False,\n",
              "       False, False, False,  True, False, False, False, False, False,\n",
              "       False, False, False, False, False, False, False, False, False,\n",
              "       False, False, False, False, False, False, False, False, False,\n",
              "       False, False, False, False, False, False, False, False, False,\n",
              "       False, False, False, False, False, False, False, False, False,\n",
              "       False, False, False, False, False, False, False, False, False,\n",
              "       False, False, False, False, False, False, False, False, False,\n",
              "       False, False, False, False, False, False, False, False, False,\n",
              "       False, False, False])"
            ]
          },
          "metadata": {},
          "execution_count": 124
        }
      ]
    },
    {
      "cell_type": "code",
      "source": [
        "rfecv.ranking_"
      ],
      "metadata": {
        "colab": {
          "base_uri": "https://localhost:8080/"
        },
        "id": "zKMOE-uIRrAR",
        "outputId": "7c2836fe-e777-4bd8-a00c-705f4ec8f4f2"
      },
      "execution_count": 125,
      "outputs": [
        {
          "output_type": "execute_result",
          "data": {
            "text/plain": [
              "array([ 94,  65,  99,  36,  30,  48,  41,  43, 127,   1,   1,  35,  22,\n",
              "        24, 119,  86, 115,  71,  18,  58, 172, 263,  45, 110,   1, 155,\n",
              "       109, 103, 108,  70,  60,  54,  15, 107,  69,  81, 128,  97, 262,\n",
              "       167,  84,  64,  44,   1,   1,   1,   1,   1,  37,  46,  52,  49,\n",
              "        31,  14,  20,   8, 200,   1,   1,  19,  17,  83, 197,  62,  29,\n",
              "        32,   2,   7, 198,  53, 138,  93, 143, 169, 113, 137,  95, 116,\n",
              "       295,  90, 152, 160, 154, 176, 264, 310, 314, 277, 266, 292, 250,\n",
              "       234, 284, 311, 316, 105, 177, 100, 156,  85, 312,  16,  68, 153,\n",
              "       181,  82, 304, 299, 309, 289, 235, 272, 256, 315, 253, 296, 255,\n",
              "        12, 140, 118,   1,  63, 298,  66, 150, 170,  10,  88, 279, 302,\n",
              "       303, 241, 294, 260, 239, 285, 278, 269, 245, 228, 129, 185,   3,\n",
              "         9, 257, 112, 161, 196, 249,  57, 261, 288, 265, 230, 293, 282,\n",
              "       280, 259, 246, 225, 268,  89, 159, 202,  78,  26, 308, 120, 122,\n",
              "       173, 142, 121, 131, 307, 267,  72, 125, 254, 117, 141, 190, 199,\n",
              "        21,  50, 179, 146, 104, 133, 291, 178, 139, 114, 123, 102, 305,\n",
              "       162, 217,  67,  39, 273, 145, 195, 186, 180, 111, 134,  75, 158,\n",
              "        77,  87, 242,  98,  42,  80, 135,  61,   5, 208, 189,  27,   6,\n",
              "       290,  76,  74, 175, 193,  51, 243, 149, 229,  25,  56, 301,  28,\n",
              "       306, 126, 124, 147, 276, 286, 219, 287, 275, 281,  59, 251, 270,\n",
              "       244, 313, 220, 164, 207, 106, 151, 300,   1, 203, 188, 163,  79,\n",
              "       168, 252, 182,  34,  73, 271,  13, 132, 171, 204,  55,  96, 165,\n",
              "       191, 157, 130, 248, 101, 183, 148, 184, 144, 215, 236, 205, 192,\n",
              "       136, 218,  92, 237, 209, 283, 194, 297, 231, 233, 213, 206, 240,\n",
              "       216, 258, 238, 212, 274, 247, 221, 214, 227, 226, 224, 201, 210,\n",
              "       232, 222, 223,   4,  91,  47,  38,  11, 174, 166,  33,  40, 211,\n",
              "       187,  23])"
            ]
          },
          "metadata": {},
          "execution_count": 125
        }
      ]
    },
    {
      "cell_type": "code",
      "source": [
        "df_features = pd.DataFrame(columns = ['feature', 'support', 'ranking'])\n",
        "\n",
        "for i in range(X_scaled.shape[1]):\n",
        "    row = {'feature': i, 'support': rfecv.support_[i], 'ranking': rfecv.ranking_[i]}\n",
        "    df_features = df_features.append(row, ignore_index=True)\n",
        "    \n",
        "df_features=df_features.sort_values(by='ranking').head(15)"
      ],
      "metadata": {
        "id": "5kdFXy6ZQ-Bl"
      },
      "execution_count": 133,
      "outputs": []
    },
    {
      "cell_type": "code",
      "source": [
        "df_features.head(15)"
      ],
      "metadata": {
        "colab": {
          "base_uri": "https://localhost:8080/",
          "height": 520
        },
        "id": "GtbUIJAkTpa7",
        "outputId": "6d8df13b-8fff-49b7-e121-b631b8e0bea6"
      },
      "execution_count": 134,
      "outputs": [
        {
          "output_type": "execute_result",
          "data": {
            "text/plain": [
              "    feature support ranking\n",
              "58       58    True       1\n",
              "57       57    True       1\n",
              "24       24    True       1\n",
              "255     255    True       1\n",
              "120     120    True       1\n",
              "44       44    True       1\n",
              "45       45    True       1\n",
              "10       10    True       1\n",
              "9         9    True       1\n",
              "43       43    True       1\n",
              "47       47    True       1\n",
              "46       46    True       1\n",
              "66       66   False       2\n",
              "142     142   False       3\n",
              "315     315   False       4"
            ],
            "text/html": [
              "\n",
              "  <div id=\"df-914923b6-7e66-4f50-8a8d-18d6b1bbc960\">\n",
              "    <div class=\"colab-df-container\">\n",
              "      <div>\n",
              "<style scoped>\n",
              "    .dataframe tbody tr th:only-of-type {\n",
              "        vertical-align: middle;\n",
              "    }\n",
              "\n",
              "    .dataframe tbody tr th {\n",
              "        vertical-align: top;\n",
              "    }\n",
              "\n",
              "    .dataframe thead th {\n",
              "        text-align: right;\n",
              "    }\n",
              "</style>\n",
              "<table border=\"1\" class=\"dataframe\">\n",
              "  <thead>\n",
              "    <tr style=\"text-align: right;\">\n",
              "      <th></th>\n",
              "      <th>feature</th>\n",
              "      <th>support</th>\n",
              "      <th>ranking</th>\n",
              "    </tr>\n",
              "  </thead>\n",
              "  <tbody>\n",
              "    <tr>\n",
              "      <th>58</th>\n",
              "      <td>58</td>\n",
              "      <td>True</td>\n",
              "      <td>1</td>\n",
              "    </tr>\n",
              "    <tr>\n",
              "      <th>57</th>\n",
              "      <td>57</td>\n",
              "      <td>True</td>\n",
              "      <td>1</td>\n",
              "    </tr>\n",
              "    <tr>\n",
              "      <th>24</th>\n",
              "      <td>24</td>\n",
              "      <td>True</td>\n",
              "      <td>1</td>\n",
              "    </tr>\n",
              "    <tr>\n",
              "      <th>255</th>\n",
              "      <td>255</td>\n",
              "      <td>True</td>\n",
              "      <td>1</td>\n",
              "    </tr>\n",
              "    <tr>\n",
              "      <th>120</th>\n",
              "      <td>120</td>\n",
              "      <td>True</td>\n",
              "      <td>1</td>\n",
              "    </tr>\n",
              "    <tr>\n",
              "      <th>44</th>\n",
              "      <td>44</td>\n",
              "      <td>True</td>\n",
              "      <td>1</td>\n",
              "    </tr>\n",
              "    <tr>\n",
              "      <th>45</th>\n",
              "      <td>45</td>\n",
              "      <td>True</td>\n",
              "      <td>1</td>\n",
              "    </tr>\n",
              "    <tr>\n",
              "      <th>10</th>\n",
              "      <td>10</td>\n",
              "      <td>True</td>\n",
              "      <td>1</td>\n",
              "    </tr>\n",
              "    <tr>\n",
              "      <th>9</th>\n",
              "      <td>9</td>\n",
              "      <td>True</td>\n",
              "      <td>1</td>\n",
              "    </tr>\n",
              "    <tr>\n",
              "      <th>43</th>\n",
              "      <td>43</td>\n",
              "      <td>True</td>\n",
              "      <td>1</td>\n",
              "    </tr>\n",
              "    <tr>\n",
              "      <th>47</th>\n",
              "      <td>47</td>\n",
              "      <td>True</td>\n",
              "      <td>1</td>\n",
              "    </tr>\n",
              "    <tr>\n",
              "      <th>46</th>\n",
              "      <td>46</td>\n",
              "      <td>True</td>\n",
              "      <td>1</td>\n",
              "    </tr>\n",
              "    <tr>\n",
              "      <th>66</th>\n",
              "      <td>66</td>\n",
              "      <td>False</td>\n",
              "      <td>2</td>\n",
              "    </tr>\n",
              "    <tr>\n",
              "      <th>142</th>\n",
              "      <td>142</td>\n",
              "      <td>False</td>\n",
              "      <td>3</td>\n",
              "    </tr>\n",
              "    <tr>\n",
              "      <th>315</th>\n",
              "      <td>315</td>\n",
              "      <td>False</td>\n",
              "      <td>4</td>\n",
              "    </tr>\n",
              "  </tbody>\n",
              "</table>\n",
              "</div>\n",
              "      <button class=\"colab-df-convert\" onclick=\"convertToInteractive('df-914923b6-7e66-4f50-8a8d-18d6b1bbc960')\"\n",
              "              title=\"Convert this dataframe to an interactive table.\"\n",
              "              style=\"display:none;\">\n",
              "        \n",
              "  <svg xmlns=\"http://www.w3.org/2000/svg\" height=\"24px\"viewBox=\"0 0 24 24\"\n",
              "       width=\"24px\">\n",
              "    <path d=\"M0 0h24v24H0V0z\" fill=\"none\"/>\n",
              "    <path d=\"M18.56 5.44l.94 2.06.94-2.06 2.06-.94-2.06-.94-.94-2.06-.94 2.06-2.06.94zm-11 1L8.5 8.5l.94-2.06 2.06-.94-2.06-.94L8.5 2.5l-.94 2.06-2.06.94zm10 10l.94 2.06.94-2.06 2.06-.94-2.06-.94-.94-2.06-.94 2.06-2.06.94z\"/><path d=\"M17.41 7.96l-1.37-1.37c-.4-.4-.92-.59-1.43-.59-.52 0-1.04.2-1.43.59L10.3 9.45l-7.72 7.72c-.78.78-.78 2.05 0 2.83L4 21.41c.39.39.9.59 1.41.59.51 0 1.02-.2 1.41-.59l7.78-7.78 2.81-2.81c.8-.78.8-2.07 0-2.86zM5.41 20L4 18.59l7.72-7.72 1.47 1.35L5.41 20z\"/>\n",
              "  </svg>\n",
              "      </button>\n",
              "      \n",
              "  <style>\n",
              "    .colab-df-container {\n",
              "      display:flex;\n",
              "      flex-wrap:wrap;\n",
              "      gap: 12px;\n",
              "    }\n",
              "\n",
              "    .colab-df-convert {\n",
              "      background-color: #E8F0FE;\n",
              "      border: none;\n",
              "      border-radius: 50%;\n",
              "      cursor: pointer;\n",
              "      display: none;\n",
              "      fill: #1967D2;\n",
              "      height: 32px;\n",
              "      padding: 0 0 0 0;\n",
              "      width: 32px;\n",
              "    }\n",
              "\n",
              "    .colab-df-convert:hover {\n",
              "      background-color: #E2EBFA;\n",
              "      box-shadow: 0px 1px 2px rgba(60, 64, 67, 0.3), 0px 1px 3px 1px rgba(60, 64, 67, 0.15);\n",
              "      fill: #174EA6;\n",
              "    }\n",
              "\n",
              "    [theme=dark] .colab-df-convert {\n",
              "      background-color: #3B4455;\n",
              "      fill: #D2E3FC;\n",
              "    }\n",
              "\n",
              "    [theme=dark] .colab-df-convert:hover {\n",
              "      background-color: #434B5C;\n",
              "      box-shadow: 0px 1px 3px 1px rgba(0, 0, 0, 0.15);\n",
              "      filter: drop-shadow(0px 1px 2px rgba(0, 0, 0, 0.3));\n",
              "      fill: #FFFFFF;\n",
              "    }\n",
              "  </style>\n",
              "\n",
              "      <script>\n",
              "        const buttonEl =\n",
              "          document.querySelector('#df-914923b6-7e66-4f50-8a8d-18d6b1bbc960 button.colab-df-convert');\n",
              "        buttonEl.style.display =\n",
              "          google.colab.kernel.accessAllowed ? 'block' : 'none';\n",
              "\n",
              "        async function convertToInteractive(key) {\n",
              "          const element = document.querySelector('#df-914923b6-7e66-4f50-8a8d-18d6b1bbc960');\n",
              "          const dataTable =\n",
              "            await google.colab.kernel.invokeFunction('convertToInteractive',\n",
              "                                                     [key], {});\n",
              "          if (!dataTable) return;\n",
              "\n",
              "          const docLinkHtml = 'Like what you see? Visit the ' +\n",
              "            '<a target=\"_blank\" href=https://colab.research.google.com/notebooks/data_table.ipynb>data table notebook</a>'\n",
              "            + ' to learn more about interactive tables.';\n",
              "          element.innerHTML = '';\n",
              "          dataTable['output_type'] = 'display_data';\n",
              "          await google.colab.output.renderOutput(dataTable, element);\n",
              "          const docLink = document.createElement('div');\n",
              "          docLink.innerHTML = docLinkHtml;\n",
              "          element.appendChild(docLink);\n",
              "        }\n",
              "      </script>\n",
              "    </div>\n",
              "  </div>\n",
              "  "
            ]
          },
          "metadata": {},
          "execution_count": 134
        }
      ]
    },
    {
      "cell_type": "markdown",
      "source": [
        "The best features selected by rfecv method is listed above. We will try to fit the model based on the reduced features."
      ],
      "metadata": {
        "id": "NgYSSp9cS1g3"
      }
    },
    {
      "cell_type": "code",
      "source": [
        "feature_selected=df_features[0:13]"
      ],
      "metadata": {
        "id": "YraVQsXoSlUW"
      },
      "execution_count": 135,
      "outputs": []
    },
    {
      "cell_type": "code",
      "source": [
        "index=list(feature_selected.feature)"
      ],
      "metadata": {
        "id": "NWIRTvCeTiCl"
      },
      "execution_count": 152,
      "outputs": []
    },
    {
      "cell_type": "code",
      "source": [
        "index"
      ],
      "metadata": {
        "colab": {
          "base_uri": "https://localhost:8080/"
        },
        "id": "UnuTkwLmU6RL",
        "outputId": "9a8ed121-29f2-4fe6-b8b8-d7af9abd1420"
      },
      "execution_count": 153,
      "outputs": [
        {
          "output_type": "execute_result",
          "data": {
            "text/plain": [
              "[58, 57, 24, 255, 120, 44, 45, 10, 9, 43, 47, 46, 66]"
            ]
          },
          "metadata": {},
          "execution_count": 153
        }
      ]
    },
    {
      "cell_type": "markdown",
      "source": [
        "The best subset of features selected by rfe is listed below"
      ],
      "metadata": {
        "id": "u99oRJEgWJr1"
      }
    },
    {
      "cell_type": "code",
      "source": [
        "df.iloc[:,index]"
      ],
      "metadata": {
        "colab": {
          "base_uri": "https://localhost:8080/",
          "height": 488
        },
        "id": "vriTSfSLUGAr",
        "outputId": "39af4ec8-078e-4092-e081-256f9d5ce15d"
      },
      "execution_count": 154,
      "outputs": [
        {
          "output_type": "execute_result",
          "data": {
            "text/plain": [
              "      gsat_BestSolution_CoeffVariance  gsat_BestSolution_Mean  \\\n",
              "0                           -0.304652               -0.629452   \n",
              "1                           -0.292539               -0.116608   \n",
              "2                           -0.304652               -0.629452   \n",
              "3                           -0.304652               -0.389030   \n",
              "4                           -0.133555               -0.597572   \n",
              "...                               ...                     ...   \n",
              "1924                         0.278244               -0.626326   \n",
              "1925                        -0.302761               -0.388934   \n",
              "1926                        -0.277766               -0.340705   \n",
              "1927                         2.222917               -0.629283   \n",
              "1928                        -0.257733               -0.212633   \n",
              "\n",
              "      pnv_ratio_coeff  and_node_entropy  c_nd_p_node_mean  \\\n",
              "0           -0.755748     -3.539990e-15         -0.227347   \n",
              "1           -0.005702     -1.908186e-01         -0.436137   \n",
              "2           -0.755748     -3.539990e-15         -0.374407   \n",
              "3           -0.755748     -3.539990e-15         -0.543475   \n",
              "4           -0.438524     -6.124975e-01         -0.138838   \n",
              "...               ...               ...               ...   \n",
              "1924        -0.544334     -1.226035e+00          2.101116   \n",
              "1925        -0.755748     -3.539990e-15         -0.534714   \n",
              "1926        -0.254739      1.234344e-01         -0.088910   \n",
              "1927        -0.223271     -3.507007e+00          2.824464   \n",
              "1928        -0.621021     -3.539990e-15         -0.831706   \n",
              "\n",
              "      estimate_log_number_nodes_over_vars  saps_BestSolution_Mean  \\\n",
              "0                                0.783811               -0.634657   \n",
              "1                               -0.684806               -0.102330   \n",
              "2                                0.783811               -0.120565   \n",
              "3                                0.781486               -0.387569   \n",
              "4                                0.608050               -0.580396   \n",
              "...                                   ...                     ...   \n",
              "1924                             0.611423               -0.622229   \n",
              "1925                             0.778953               -0.387420   \n",
              "1926                             0.273468               -0.313590   \n",
              "1927                             0.774728               -0.634657   \n",
              "1928                            -0.226203               -0.312281   \n",
              "\n",
              "      vcg_clause_coeff  vcg_clause_mean  \\\n",
              "0            -1.229132         4.718609   \n",
              "1            -0.191928         0.257936   \n",
              "2            -0.914755         1.823158   \n",
              "3            -0.927489         1.112953   \n",
              "4             0.206658         0.276032   \n",
              "...                ...              ...   \n",
              "1924          1.017396        -0.637445   \n",
              "1925         -0.932783         1.138778   \n",
              "1926          0.289767        -0.077121   \n",
              "1927          2.630303        -0.887903   \n",
              "1928         -0.928822        -0.752652   \n",
              "\n",
              "      mean_depth_to_contradiction_over_vars  saps_FirstLocalMinStep_Mean  \\\n",
              "0                                  1.062529                    -0.820933   \n",
              "1                                 -1.503097                    -0.489676   \n",
              "2                                  1.062529                    -0.779232   \n",
              "3                                  1.056938                    -0.783630   \n",
              "4                                  0.453980                    -0.525809   \n",
              "...                                     ...                          ...   \n",
              "1924                               0.646469                     0.116421   \n",
              "1925                               1.052068                    -0.784435   \n",
              "1926                              -0.321855                    -0.355853   \n",
              "1927                               1.042364                     2.646895   \n",
              "1928                              -1.387865                     0.209860   \n",
              "\n",
              "      saps_BestSolution_CoeffVariance  gsat_FirstLocalMinRatio_Mean  \n",
              "0                           -0.241301                     -2.353908  \n",
              "1                           -0.219956                      0.402830  \n",
              "2                           -0.152498                     -3.152663  \n",
              "3                           -0.241301                      0.179250  \n",
              "4                           -0.017285                      0.499257  \n",
              "...                               ...                           ...  \n",
              "1924                         0.254841                      0.534802  \n",
              "1925                        -0.237365                      0.090973  \n",
              "1926                        -0.192378                      0.459128  \n",
              "1927                        -0.241301                      0.539420  \n",
              "1928                        -0.172013                      0.472568  \n",
              "\n",
              "[1929 rows x 13 columns]"
            ],
            "text/html": [
              "\n",
              "  <div id=\"df-55430e09-37dc-4f36-80fb-27f2ff7b6cf1\">\n",
              "    <div class=\"colab-df-container\">\n",
              "      <div>\n",
              "<style scoped>\n",
              "    .dataframe tbody tr th:only-of-type {\n",
              "        vertical-align: middle;\n",
              "    }\n",
              "\n",
              "    .dataframe tbody tr th {\n",
              "        vertical-align: top;\n",
              "    }\n",
              "\n",
              "    .dataframe thead th {\n",
              "        text-align: right;\n",
              "    }\n",
              "</style>\n",
              "<table border=\"1\" class=\"dataframe\">\n",
              "  <thead>\n",
              "    <tr style=\"text-align: right;\">\n",
              "      <th></th>\n",
              "      <th>gsat_BestSolution_CoeffVariance</th>\n",
              "      <th>gsat_BestSolution_Mean</th>\n",
              "      <th>pnv_ratio_coeff</th>\n",
              "      <th>and_node_entropy</th>\n",
              "      <th>c_nd_p_node_mean</th>\n",
              "      <th>estimate_log_number_nodes_over_vars</th>\n",
              "      <th>saps_BestSolution_Mean</th>\n",
              "      <th>vcg_clause_coeff</th>\n",
              "      <th>vcg_clause_mean</th>\n",
              "      <th>mean_depth_to_contradiction_over_vars</th>\n",
              "      <th>saps_FirstLocalMinStep_Mean</th>\n",
              "      <th>saps_BestSolution_CoeffVariance</th>\n",
              "      <th>gsat_FirstLocalMinRatio_Mean</th>\n",
              "    </tr>\n",
              "  </thead>\n",
              "  <tbody>\n",
              "    <tr>\n",
              "      <th>0</th>\n",
              "      <td>-0.304652</td>\n",
              "      <td>-0.629452</td>\n",
              "      <td>-0.755748</td>\n",
              "      <td>-3.539990e-15</td>\n",
              "      <td>-0.227347</td>\n",
              "      <td>0.783811</td>\n",
              "      <td>-0.634657</td>\n",
              "      <td>-1.229132</td>\n",
              "      <td>4.718609</td>\n",
              "      <td>1.062529</td>\n",
              "      <td>-0.820933</td>\n",
              "      <td>-0.241301</td>\n",
              "      <td>-2.353908</td>\n",
              "    </tr>\n",
              "    <tr>\n",
              "      <th>1</th>\n",
              "      <td>-0.292539</td>\n",
              "      <td>-0.116608</td>\n",
              "      <td>-0.005702</td>\n",
              "      <td>-1.908186e-01</td>\n",
              "      <td>-0.436137</td>\n",
              "      <td>-0.684806</td>\n",
              "      <td>-0.102330</td>\n",
              "      <td>-0.191928</td>\n",
              "      <td>0.257936</td>\n",
              "      <td>-1.503097</td>\n",
              "      <td>-0.489676</td>\n",
              "      <td>-0.219956</td>\n",
              "      <td>0.402830</td>\n",
              "    </tr>\n",
              "    <tr>\n",
              "      <th>2</th>\n",
              "      <td>-0.304652</td>\n",
              "      <td>-0.629452</td>\n",
              "      <td>-0.755748</td>\n",
              "      <td>-3.539990e-15</td>\n",
              "      <td>-0.374407</td>\n",
              "      <td>0.783811</td>\n",
              "      <td>-0.120565</td>\n",
              "      <td>-0.914755</td>\n",
              "      <td>1.823158</td>\n",
              "      <td>1.062529</td>\n",
              "      <td>-0.779232</td>\n",
              "      <td>-0.152498</td>\n",
              "      <td>-3.152663</td>\n",
              "    </tr>\n",
              "    <tr>\n",
              "      <th>3</th>\n",
              "      <td>-0.304652</td>\n",
              "      <td>-0.389030</td>\n",
              "      <td>-0.755748</td>\n",
              "      <td>-3.539990e-15</td>\n",
              "      <td>-0.543475</td>\n",
              "      <td>0.781486</td>\n",
              "      <td>-0.387569</td>\n",
              "      <td>-0.927489</td>\n",
              "      <td>1.112953</td>\n",
              "      <td>1.056938</td>\n",
              "      <td>-0.783630</td>\n",
              "      <td>-0.241301</td>\n",
              "      <td>0.179250</td>\n",
              "    </tr>\n",
              "    <tr>\n",
              "      <th>4</th>\n",
              "      <td>-0.133555</td>\n",
              "      <td>-0.597572</td>\n",
              "      <td>-0.438524</td>\n",
              "      <td>-6.124975e-01</td>\n",
              "      <td>-0.138838</td>\n",
              "      <td>0.608050</td>\n",
              "      <td>-0.580396</td>\n",
              "      <td>0.206658</td>\n",
              "      <td>0.276032</td>\n",
              "      <td>0.453980</td>\n",
              "      <td>-0.525809</td>\n",
              "      <td>-0.017285</td>\n",
              "      <td>0.499257</td>\n",
              "    </tr>\n",
              "    <tr>\n",
              "      <th>...</th>\n",
              "      <td>...</td>\n",
              "      <td>...</td>\n",
              "      <td>...</td>\n",
              "      <td>...</td>\n",
              "      <td>...</td>\n",
              "      <td>...</td>\n",
              "      <td>...</td>\n",
              "      <td>...</td>\n",
              "      <td>...</td>\n",
              "      <td>...</td>\n",
              "      <td>...</td>\n",
              "      <td>...</td>\n",
              "      <td>...</td>\n",
              "    </tr>\n",
              "    <tr>\n",
              "      <th>1924</th>\n",
              "      <td>0.278244</td>\n",
              "      <td>-0.626326</td>\n",
              "      <td>-0.544334</td>\n",
              "      <td>-1.226035e+00</td>\n",
              "      <td>2.101116</td>\n",
              "      <td>0.611423</td>\n",
              "      <td>-0.622229</td>\n",
              "      <td>1.017396</td>\n",
              "      <td>-0.637445</td>\n",
              "      <td>0.646469</td>\n",
              "      <td>0.116421</td>\n",
              "      <td>0.254841</td>\n",
              "      <td>0.534802</td>\n",
              "    </tr>\n",
              "    <tr>\n",
              "      <th>1925</th>\n",
              "      <td>-0.302761</td>\n",
              "      <td>-0.388934</td>\n",
              "      <td>-0.755748</td>\n",
              "      <td>-3.539990e-15</td>\n",
              "      <td>-0.534714</td>\n",
              "      <td>0.778953</td>\n",
              "      <td>-0.387420</td>\n",
              "      <td>-0.932783</td>\n",
              "      <td>1.138778</td>\n",
              "      <td>1.052068</td>\n",
              "      <td>-0.784435</td>\n",
              "      <td>-0.237365</td>\n",
              "      <td>0.090973</td>\n",
              "    </tr>\n",
              "    <tr>\n",
              "      <th>1926</th>\n",
              "      <td>-0.277766</td>\n",
              "      <td>-0.340705</td>\n",
              "      <td>-0.254739</td>\n",
              "      <td>1.234344e-01</td>\n",
              "      <td>-0.088910</td>\n",
              "      <td>0.273468</td>\n",
              "      <td>-0.313590</td>\n",
              "      <td>0.289767</td>\n",
              "      <td>-0.077121</td>\n",
              "      <td>-0.321855</td>\n",
              "      <td>-0.355853</td>\n",
              "      <td>-0.192378</td>\n",
              "      <td>0.459128</td>\n",
              "    </tr>\n",
              "    <tr>\n",
              "      <th>1927</th>\n",
              "      <td>2.222917</td>\n",
              "      <td>-0.629283</td>\n",
              "      <td>-0.223271</td>\n",
              "      <td>-3.507007e+00</td>\n",
              "      <td>2.824464</td>\n",
              "      <td>0.774728</td>\n",
              "      <td>-0.634657</td>\n",
              "      <td>2.630303</td>\n",
              "      <td>-0.887903</td>\n",
              "      <td>1.042364</td>\n",
              "      <td>2.646895</td>\n",
              "      <td>-0.241301</td>\n",
              "      <td>0.539420</td>\n",
              "    </tr>\n",
              "    <tr>\n",
              "      <th>1928</th>\n",
              "      <td>-0.257733</td>\n",
              "      <td>-0.212633</td>\n",
              "      <td>-0.621021</td>\n",
              "      <td>-3.539990e-15</td>\n",
              "      <td>-0.831706</td>\n",
              "      <td>-0.226203</td>\n",
              "      <td>-0.312281</td>\n",
              "      <td>-0.928822</td>\n",
              "      <td>-0.752652</td>\n",
              "      <td>-1.387865</td>\n",
              "      <td>0.209860</td>\n",
              "      <td>-0.172013</td>\n",
              "      <td>0.472568</td>\n",
              "    </tr>\n",
              "  </tbody>\n",
              "</table>\n",
              "<p>1929 rows × 13 columns</p>\n",
              "</div>\n",
              "      <button class=\"colab-df-convert\" onclick=\"convertToInteractive('df-55430e09-37dc-4f36-80fb-27f2ff7b6cf1')\"\n",
              "              title=\"Convert this dataframe to an interactive table.\"\n",
              "              style=\"display:none;\">\n",
              "        \n",
              "  <svg xmlns=\"http://www.w3.org/2000/svg\" height=\"24px\"viewBox=\"0 0 24 24\"\n",
              "       width=\"24px\">\n",
              "    <path d=\"M0 0h24v24H0V0z\" fill=\"none\"/>\n",
              "    <path d=\"M18.56 5.44l.94 2.06.94-2.06 2.06-.94-2.06-.94-.94-2.06-.94 2.06-2.06.94zm-11 1L8.5 8.5l.94-2.06 2.06-.94-2.06-.94L8.5 2.5l-.94 2.06-2.06.94zm10 10l.94 2.06.94-2.06 2.06-.94-2.06-.94-.94-2.06-.94 2.06-2.06.94z\"/><path d=\"M17.41 7.96l-1.37-1.37c-.4-.4-.92-.59-1.43-.59-.52 0-1.04.2-1.43.59L10.3 9.45l-7.72 7.72c-.78.78-.78 2.05 0 2.83L4 21.41c.39.39.9.59 1.41.59.51 0 1.02-.2 1.41-.59l7.78-7.78 2.81-2.81c.8-.78.8-2.07 0-2.86zM5.41 20L4 18.59l7.72-7.72 1.47 1.35L5.41 20z\"/>\n",
              "  </svg>\n",
              "      </button>\n",
              "      \n",
              "  <style>\n",
              "    .colab-df-container {\n",
              "      display:flex;\n",
              "      flex-wrap:wrap;\n",
              "      gap: 12px;\n",
              "    }\n",
              "\n",
              "    .colab-df-convert {\n",
              "      background-color: #E8F0FE;\n",
              "      border: none;\n",
              "      border-radius: 50%;\n",
              "      cursor: pointer;\n",
              "      display: none;\n",
              "      fill: #1967D2;\n",
              "      height: 32px;\n",
              "      padding: 0 0 0 0;\n",
              "      width: 32px;\n",
              "    }\n",
              "\n",
              "    .colab-df-convert:hover {\n",
              "      background-color: #E2EBFA;\n",
              "      box-shadow: 0px 1px 2px rgba(60, 64, 67, 0.3), 0px 1px 3px 1px rgba(60, 64, 67, 0.15);\n",
              "      fill: #174EA6;\n",
              "    }\n",
              "\n",
              "    [theme=dark] .colab-df-convert {\n",
              "      background-color: #3B4455;\n",
              "      fill: #D2E3FC;\n",
              "    }\n",
              "\n",
              "    [theme=dark] .colab-df-convert:hover {\n",
              "      background-color: #434B5C;\n",
              "      box-shadow: 0px 1px 3px 1px rgba(0, 0, 0, 0.15);\n",
              "      filter: drop-shadow(0px 1px 2px rgba(0, 0, 0, 0.3));\n",
              "      fill: #FFFFFF;\n",
              "    }\n",
              "  </style>\n",
              "\n",
              "      <script>\n",
              "        const buttonEl =\n",
              "          document.querySelector('#df-55430e09-37dc-4f36-80fb-27f2ff7b6cf1 button.colab-df-convert');\n",
              "        buttonEl.style.display =\n",
              "          google.colab.kernel.accessAllowed ? 'block' : 'none';\n",
              "\n",
              "        async function convertToInteractive(key) {\n",
              "          const element = document.querySelector('#df-55430e09-37dc-4f36-80fb-27f2ff7b6cf1');\n",
              "          const dataTable =\n",
              "            await google.colab.kernel.invokeFunction('convertToInteractive',\n",
              "                                                     [key], {});\n",
              "          if (!dataTable) return;\n",
              "\n",
              "          const docLinkHtml = 'Like what you see? Visit the ' +\n",
              "            '<a target=\"_blank\" href=https://colab.research.google.com/notebooks/data_table.ipynb>data table notebook</a>'\n",
              "            + ' to learn more about interactive tables.';\n",
              "          element.innerHTML = '';\n",
              "          dataTable['output_type'] = 'display_data';\n",
              "          await google.colab.output.renderOutput(dataTable, element);\n",
              "          const docLink = document.createElement('div');\n",
              "          docLink.innerHTML = docLinkHtml;\n",
              "          element.appendChild(docLink);\n",
              "        }\n",
              "      </script>\n",
              "    </div>\n",
              "  </div>\n",
              "  "
            ]
          },
          "metadata": {},
          "execution_count": 154
        }
      ]
    },
    {
      "cell_type": "code",
      "source": [
        "X_final=df.iloc[:,index]\n",
        "Y_final=df.target\n",
        "X_train_final,X_test_final,Y_train_final,Y_test_final=train_test_split(X_final,Y_final,test_size=0.3,random_state=42)\n",
        "knn_model_final = KNeighborsClassifier(leaf_size=1,p=1,n_neighbors=1)\n",
        "knn_model_final.fit(X_train_final, Y_train_final)\n",
        "y_pred_knn_final=knn_model_final.predict(X_test_final)\n",
        "print(\"Accuracy for KNN after feature selection:\",metrics.accuracy_score(Y_test_final,y_pred_knn_final) )"
      ],
      "metadata": {
        "colab": {
          "base_uri": "https://localhost:8080/"
        },
        "id": "AP1eGZSSU9wE",
        "outputId": "19e55074-a294-469d-c782-981d455502c8"
      },
      "execution_count": 159,
      "outputs": [
        {
          "output_type": "stream",
          "name": "stdout",
          "text": [
            "Accuracy for KNN after feature selection: 0.9930915371329879\n"
          ]
        }
      ]
    },
    {
      "cell_type": "markdown",
      "source": [
        "## New classifier (10 Marks)\n",
        "\n",
        "Replicate the previous task for a classifier that we did not cover in class. So different than K-NN and decision trees. Briefly describe your choice.\n",
        "Try to create the best model for the given dataset.\n",
        "Save your best model into your github. And create a single code cell that loads it and evaluate it on the following test dataset:\n",
        "https://github.com/andvise/DataAnalyticsDatasets/blob/main/dm_assignment2/sat_dataset_test.csv\n",
        "\n",
        "This link currently contains a sample of the training set. The real test set will be released after the submission. I should be able to run the code cell independently, load all the libraries you need as well."
      ],
      "metadata": {
        "id": "FYoMg0EZIrNd"
      }
    },
    {
      "cell_type": "markdown",
      "source": [
        "The classifier that we will be using is Logistic Regression, a application of Gradient Boosting for decision trees. Gradient boosting is method by which the model iteratively learn from weak learners to build strong model. Here XG Boost is used because it  computationally efficient than other algorithms."
      ],
      "metadata": {
        "id": "iqRDwwJDH9nS"
      }
    },
    {
      "cell_type": "code",
      "source": [
        "# YOUR CODE HERE\n",
        "from sklearn import svm\n"
      ],
      "metadata": {
        "id": "QRJXrY2hI32F"
      },
      "execution_count": null,
      "outputs": []
    },
    {
      "cell_type": "markdown",
      "source": [
        "# <font color=\"blue\">FOR GRADING ONLY</font>\n",
        "\n",
        "Save your best model into your github. And create a single code cell that loads it and evaluate it on the following test dataset: \n",
        "https://github.com/andvise/DataAnalyticsDatasets/blob/main/dm_assignment2/sat_dataset_test.csv"
      ],
      "metadata": {
        "id": "Q01BjiiCJTR4"
      }
    },
    {
      "cell_type": "code",
      "source": [
        "from joblib import dump, load\n",
        "from io import BytesIO\n",
        "import requests\n",
        "\n",
        "# INSERT YOUR MODEL'S URL\n",
        "mLink = 'URL_OF_YOUR_MODEL_SAVED_IN_YOUR_GITHUB_REPOSITORY?raw=true'\n",
        "mfile = BytesIO(requests.get(mLink).content)\n",
        "model = load(mfile)\n",
        "# YOUR CODE HERE"
      ],
      "metadata": {
        "id": "IWx4lyuQI929"
      },
      "execution_count": null,
      "outputs": []
    },
    {
      "cell_type": "code",
      "source": [
        ""
      ],
      "metadata": {
        "id": "w-k6H-1ZKTYo"
      },
      "execution_count": null,
      "outputs": []
    }
  ]
}